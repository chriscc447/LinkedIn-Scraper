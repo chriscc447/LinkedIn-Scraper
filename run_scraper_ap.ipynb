{
 "cells": [
  {
   "cell_type": "code",
   "execution_count": 1,
   "metadata": {},
   "outputs": [],
   "source": [
    "from scraper import *"
   ]
  },
  {
   "cell_type": "code",
   "execution_count": 2,
   "metadata": {
    "scrolled": false
   },
   "outputs": [
    {
     "name": "stdout",
     "output_type": "stream",
     "text": [
      "Setting up browser...Done\n",
      "\n",
      "Running profile scraper:\n",
      "\tInitial profile\n",
      "\t\tRetrieving data from [ https://www.linkedin.com/in/andrew-palmer-8677682b/ ]...Getting links...Done\n",
      "\n",
      "\tDegree of separation: 1\t\tLinked from: andrew-palmer-8677682b\n",
      "\t\tRetrieving data from [ https://www.linkedin.com/in/michael-mccord-cfa-00087311/ ]...Getting links...Done\n",
      "\t\tRetrieving data from [ https://www.linkedin.com/in/steve-algert-241412159/ ]...Getting links...Done\n",
      "\t\tRetrieving data from [ https://www.linkedin.com/in/david-ferguson-cfa-b3891914/ ]...Getting links...Done\n",
      "\t\tRetrieving data from [ https://www.linkedin.com/in/lorenzo-newsome-cfa-frm-9598891/ ]...Getting links...Done\n",
      "\n",
      "\tDegree of separation: 2\t\tLinked from: michael-mccord-cfa-00087311\n",
      "\t\tRetrieving data from [ https://www.linkedin.com/in/jodyshaw/ ]...Getting links...Done\n",
      "\t\tRetrieving data from [ https://www.linkedin.com/in/andy-lumb-caia-20a50a9/ ]...Getting links...Done\n",
      "\t\tRetrieving data from [ https://www.linkedin.com/in/kelsey-turcotte-561760/ ]...Getting links...Done\n",
      "\n",
      "\tDegree of separation: 2\t\tLinked from: steve-algert-241412159\n",
      "\t\tRetrieving data from [ https://www.linkedin.com/in/neal-triplett-ab5a3110/ ]...Getting links...Done\n",
      "\t\tRetrieving data from [ https://www.linkedin.com/in/laura-hegarty-ab129b6/ ]...Getting links...Done\n",
      "\t\tRetrieving data from [ https://www.linkedin.com/in/kim-sargent-a74751/ ]...Getting links...Done\n",
      "\t\tRetrieving data from [ https://www.linkedin.com/in/tia-mahaffy/ ]...Getting links...Done\n",
      "\n",
      "\tDegree of separation: 2\t\tLinked from: david-ferguson-cfa-b3891914\n",
      "\t\tRetrieving data from [ https://www.linkedin.com/in/allen-jackson-6b9306/ ]...Getting links...Done\n",
      "\n",
      "\tDegree of separation: 2\t\tLinked from: lorenzo-newsome-cfa-frm-9598891\n",
      "\t\tRetrieving data from [ https://www.linkedin.com/in/elisa-mailman-4a87185/ ]...Getting links...Done\n",
      "\t\tRetrieving data from [ https://www.linkedin.com/in/cameron-black-cfa-caia-cfp-1a84362/ ]...Getting links...Done\n",
      "\t\tRetrieving data from [ https://www.linkedin.com/in/scott-lupkas-69a47bb/ ]...Getting links...Done\n",
      "\t\tRetrieving data from [ https://www.linkedin.com/in/terra-fuller-1aa1aa26/ ]...Getting links...Done\n",
      "\n",
      "\tDegree of separation: 3\t\tLinked from: jodyshaw\n",
      "\t\tRetrieving data from [ https://www.linkedin.com/in/gregkasten/ ]...Done\n",
      "\t\tRetrieving data from [ https://www.linkedin.com/in/frederick-b-smith-iv-cfa-caia-839b8537/ ]...Done\n",
      "\t\tRetrieving data from [ https://www.linkedin.com/in/elizabeth-fisher-7440547b/ ]...Done\n",
      "\t\tRetrieving data from [ https://www.linkedin.com/in/baileyspaulding12/ ]...Done\n",
      "\n",
      "\tDegree of separation: 3\t\tLinked from: andy-lumb-caia-20a50a9\n",
      "\t\tRetrieving data from [ https://www.linkedin.com/in/james-bennett-cfa-caia-6b797149/ ]...Done\n",
      "\t\tRetrieving data from [ https://www.linkedin.com/in/janet-londono-valle-3434259b/ ]...Done\n",
      "\t\tRetrieving data from [ https://www.linkedin.com/in/jeremy-higgins-13367527/ ]...Done\n",
      "\n",
      "\tDegree of separation: 3\t\tLinked from: kelsey-turcotte-561760\n",
      "\t\tRetrieving data from [ https://www.linkedin.com/in/nicolehayashi/ ]...Done\n",
      "\t\tRetrieving data from [ https://www.linkedin.com/in/emily-greenstein-27b477b7/ ]...Done\n",
      "\t\tRetrieving data from [ https://www.linkedin.com/in/takahashi-genki-7963a7b6/ ]...Done\n",
      "\t\tRetrieving data from [ https://www.linkedin.com/in/thomasdonaldclark/ ]...Done\n",
      "\n",
      "\tDegree of separation: 3\t\tLinked from: neal-triplett-ab5a3110\n",
      "\t\tRetrieving data from [ https://www.linkedin.com/in/claire-fefer-a5457492/ ]...Done\n",
      "\t\tRetrieving data from [ https://www.linkedin.com/in/susan-zhang-cfa-522b724/ ]...Done\n",
      "\t\tRetrieving data from [ https://www.linkedin.com/in/jing-li-8a23a542/ ]...Done\n",
      "\t\tRetrieving data from [ https://www.linkedin.com/in/mccall-cravens-8171a96/ ]...Done\n",
      "\n",
      "\tDegree of separation: 3\t\tLinked from: laura-hegarty-ab129b6\n",
      "\t\tRetrieving data from [ https://www.linkedin.com/in/olivia-dipaolo-43a1614b/ ]...Done\n",
      "\t\tRetrieving data from [ https://www.linkedin.com/in/sarah-bria-b3329b2/ ]...Done\n",
      "\t\tRetrieving data from [ https://www.linkedin.com/in/scott-froehlichnyc2016/ ]...Done\n",
      "\t\tRetrieving data from [ https://www.linkedin.com/in/jennifer-coffey-8037081/ ]...Done\n",
      "\n",
      "\tDegree of separation: 3\t\tLinked from: kim-sargent-a74751\n",
      "\t\tRetrieving data from [ https://www.linkedin.com/in/bruce-zimmerman-510abb145/ ]...Done\n",
      "\t\tRetrieving data from [ https://www.linkedin.com/in/kate-powell-cfa-b7ab9414/ ]...Done\n",
      "\t\tRetrieving data from [ https://www.linkedin.com/in/michael-flynn-474a2b/ ]...Done\n",
      "\t\tRetrieving data from [ https://www.linkedin.com/in/ben-chiquoine-61012833/ ]...Done\n",
      "\n",
      "\tDegree of separation: 3\t\tLinked from: tia-mahaffy\n",
      "\t\tRetrieving data from [ https://www.linkedin.com/in/dana-blair-6233a953/ ]...Done\n",
      "\t\tRetrieving data from [ https://www.linkedin.com/in/chloe-aucoin-52023967/ ]...Done\n",
      "\t\tRetrieving data from [ https://www.linkedin.com/in/bridget-bartlett-14154612/ ]...Done\n",
      "\t\tRetrieving data from [ https://www.linkedin.com/in/kevin-scullin-aa540ab/ ]...Done\n",
      "\n",
      "\tDegree of separation: 3\t\tLinked from: allen-jackson-6b9306\n",
      "\t\tRetrieving data from [ https://www.linkedin.com/in/flora-li-hedrick-260b205/ ]...Done\n",
      "\t\tRetrieving data from [ https://www.linkedin.com/in/john-gandy-cfa-cmt-b8904415/ ]...Done\n",
      "\t\tRetrieving data from [ https://www.linkedin.com/in/susanyunlee/ ]...Done\n",
      "\t\tRetrieving data from [ https://www.linkedin.com/in/peter-teuscher-a465a313/ ]...Done\n",
      "\n",
      "\tDegree of separation: 3\t\tLinked from: elisa-mailman-4a87185\n",
      "\t\tRetrieving data from [ https://www.linkedin.com/in/chrispellegrino1/ ]...Done\n",
      "\t\tRetrieving data from [ https://www.linkedin.com/in/gary-pierce-388120/ ]...Done\n",
      "\t\tRetrieving data from [ https://www.linkedin.com/in/wadad-cortas-05b09151/ ]...Done\n",
      "\t\tRetrieving data from [ https://www.linkedin.com/in/kenshoji/ ]...Done\n",
      "\n",
      "\tDegree of separation: 3\t\tLinked from: cameron-black-cfa-caia-cfp-1a84362\n",
      "\t\tRetrieving data from [ https://www.linkedin.com/in/ryan-flanagan-70036a2/ ]...Done\n",
      "\t\tRetrieving data from [ https://www.linkedin.com/in/david-robinson-cfa-aa0b8378/ ]...Done\n",
      "\t\tRetrieving data from [ https://www.linkedin.com/in/amy-chen-58b377/ ]...Done\n",
      "\n",
      "\tDegree of separation: 3\t\tLinked from: scott-lupkas-69a47bb\n",
      "\t\tRetrieving data from [ https://www.linkedin.com/in/sherry-wong-chen-21a8151/ ]...Done\n",
      "\t\tRetrieving data from [ https://www.linkedin.com/in/sanjay-chawla-620b2a/ ]...Done\n",
      "\t\tRetrieving data from [ https://www.linkedin.com/in/thomaslefler/ ]...Done\n",
      "\n",
      "\tDegree of separation: 3\t\tLinked from: terra-fuller-1aa1aa26\n",
      "\t\tRetrieving data from [ https://www.linkedin.com/in/lauren-garner-0a11985/ ]...Done\n",
      "\t\tRetrieving data from [ https://www.linkedin.com/in/nancy-orr-6544a9bb/ ]...Done\n",
      "\t\tRetrieving data from [ https://www.linkedin.com/in/mary-robbins-31687311/ ]...Done\n",
      "Profile scraping finished in 0:03:08.231166\n",
      "\n",
      "Preprocessing DataFrame...Done\n"
     ]
    }
   ],
   "source": [
    "li = LI_Scraper()\n",
    "li.run(start_url = \"https://www.linkedin.com/in/andrew-palmer-8677682b/\", degrees = 3, connects = 4, save = False)"
   ]
  },
  {
   "cell_type": "code",
   "execution_count": 5,
   "metadata": {},
   "outputs": [
    {
     "name": "stdout",
     "output_type": "stream",
     "text": [
      "Saving DataFrame to andrew_palmer_profiles.csv\n"
     ]
    }
   ],
   "source": [
    "li.save(\"andrew_palmer_profiles.csv\")"
   ]
  }
 ],
 "metadata": {
  "kernelspec": {
   "display_name": "Python 3.7.4 64-bit ('base': conda)",
   "language": "python",
   "name": "python37464bitbasecondade3031e102d342aa8a702b3f5f29a489"
  },
  "language_info": {
   "codemirror_mode": {
    "name": "ipython",
    "version": 3
   },
   "file_extension": ".py",
   "mimetype": "text/x-python",
   "name": "python",
   "nbconvert_exporter": "python",
   "pygments_lexer": "ipython3",
   "version": "3.7.6"
  }
 },
 "nbformat": 4,
 "nbformat_minor": 4
}
