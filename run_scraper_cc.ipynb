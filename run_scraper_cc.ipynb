{
 "cells": [
  {
   "cell_type": "code",
   "execution_count": 1,
   "metadata": {},
   "outputs": [],
   "source": [
    "from scraper import *"
   ]
  },
  {
   "cell_type": "code",
   "execution_count": 2,
   "metadata": {},
   "outputs": [
    {
     "name": "stdout",
     "output_type": "stream",
     "text": [
      "Setting up browser...Done\n",
      "\n",
      "Running profile scraper:\n",
      "\tInitial profile\n",
      "\t\tRetrieving data from [ https://www.linkedin.com/in/chrischen447/ ]...Getting links...Done\n",
      "\n",
      "\tDegree of separation: 1\t\tLinked from: chrischen447\n",
      "\t\tRetrieving data from [ https://www.linkedin.com/in/ying-li-30b65b20/ ]...Getting links...Done\n",
      "\t\tRetrieving data from [ https://www.linkedin.com/in/zoe-hou-a021746/ ]...Getting links...Done\n",
      "\t\tRetrieving data from [ https://www.linkedin.com/in/bin-zhou-86b39216/ ]...Getting links...Done\n",
      "\t\tRetrieving data from [ https://www.linkedin.com/in/mingyunhuang/ ]...Getting links...Done\n",
      "\n",
      "\tDegree of separation: 2\t\tLinked from: ying-li-30b65b20\n",
      "\t\tRetrieving data from [ https://www.linkedin.com/in/kunlaya-soiaporn-95387869/ ]...Getting links...Done\n",
      "\t\tRetrieving data from [ https://www.linkedin.com/in/heather-hui-cheng-6a12883b/ ]...Getting links...Done\n",
      "\t\tRetrieving data from [ https://www.linkedin.com/in/krishnangeetha/ ]...Done\n",
      "\n",
      "\tDegree of separation: 2\t\tLinked from: zoe-hou-a021746\n",
      "\t\tRetrieving data from [ https://www.linkedin.com/in/jiaqi-%EF%BC%88rachel%EF%BC%89-zhang-68a301136/ ]...Getting links...Done\n",
      "\t\tRetrieving data from [ https://www.linkedin.com/in/huijie-feng-h3722f/ ]...Getting links...Done\n",
      "\t\tRetrieving data from [ https://www.linkedin.com/in/zhixiang-wang/ ]...Getting links...Done\n",
      "\t\tRetrieving data from [ https://www.linkedin.com/in/chen-l-194020147/ ]...Getting links...Done\n",
      "\n",
      "\tDegree of separation: 2\t\tLinked from: bin-zhou-86b39216\n",
      "\t\tRetrieving data from [ https://www.linkedin.com/in/yilin-ji-99b29b105/ ]...Getting links...Done\n",
      "\t\tRetrieving data from [ https://www.linkedin.com/in/xi-chen-a4497114/ ]...Getting links...Done\n",
      "\t\tRetrieving data from [ https://www.linkedin.com/in/peihua-gu-8297ab19/ ]...Done\n",
      "\t\tRetrieving data from [ https://www.linkedin.com/in/mingjian-tian-95349329/ ]...Getting links...Done\n",
      "\n",
      "\tDegree of separation: 2\t\tLinked from: mingyunhuang\n",
      "\t\tRetrieving data from [ https://www.linkedin.com/in/jeremymfunk/ ]...Getting links...Done\n",
      "\n",
      "\tDegree of separation: 3\t\tLinked from: kunlaya-soiaporn-95387869\n",
      "\t\tRetrieving data from [ https://www.linkedin.com/in/yi-zhong-21389a6a/ ]...Done\n",
      "\t\tRetrieving data from [ https://www.linkedin.com/in/srinivas-s-344521/ ]...Done\n",
      "\t\tRetrieving data from [ https://www.linkedin.com/in/minh-b-le-4211a1155/ ]...Done\n",
      "\t\tRetrieving data from [ https://www.linkedin.com/in/nicole-bittlingmaier-aa2a61162/ ]...Done\n",
      "\n",
      "\tDegree of separation: 3\t\tLinked from: heather-hui-cheng-6a12883b\n",
      "\t\tRetrieving data from [ https://www.linkedin.com/in/lin-wu-1a13ba28/ ]...Done\n",
      "\t\tRetrieving data from [ https://www.linkedin.com/in/shu-xiao/ ]...Done\n",
      "\t\tRetrieving data from [ https://www.linkedin.com/in/anshuljain26/ ]...Done\n",
      "\t\tRetrieving data from [ https://www.linkedin.com/in/tiffanyyuty/ ]...Done\n",
      "\n",
      "\tDegree of separation: 3\t\tLinked from: jiaqi-%EF%BC%88rachel%EF%BC%89-zhang-68a301136\n",
      "\t\tRetrieving data from [ https://www.linkedin.com/in/wenying-eleanor-tao-85877a175/ ]...Done\n",
      "\t\tRetrieving data from [ https://www.linkedin.com/in/colin-phelan-55b30411a/ ]...Done\n",
      "\t\tRetrieving data from [ https://www.linkedin.com/in/michael-osaghae/ ]...Done\n",
      "\t\tRetrieving data from [ https://www.linkedin.com/in/jolene-lozano/ ]...Done\n",
      "\n",
      "\tDegree of separation: 3\t\tLinked from: huijie-feng-h3722f\n",
      "\t\tRetrieving data from [ https://www.linkedin.com/in/xin-bing-22b49bb0/ ]...Done\n",
      "\t\tRetrieving data from [ https://www.linkedin.com/in/zhengze-zhou-42139bb7/ ]...Done\n",
      "\t\tRetrieving data from [ https://www.linkedin.com/in/jian-shi-js0728/ ]...Done\n",
      "\n",
      "\tDegree of separation: 3\t\tLinked from: zhixiang-wang\n",
      "\t\tRetrieving data from [ https://www.linkedin.com/in/zihan-zhang-053592149/ ]...Done\n",
      "\t\tRetrieving data from [ https://www.linkedin.com/in/sung-woo-ahn-155383136/ ]...Done\n",
      "\t\tRetrieving data from [ https://www.linkedin.com/in/xinyu-huang-anna/ ]...Done\n",
      "\n",
      "\tDegree of separation: 3\t\tLinked from: chen-l-194020147\n",
      "\t\tRetrieving data from [ https://www.linkedin.com/in/cynthia-todd-887238a2/ ]...Done\n",
      "\t\tRetrieving data from [ https://www.linkedin.com/in/sliuxf/ ]...Done\n",
      "\t\tRetrieving data from [ https://www.linkedin.com/in/alicia-critelli-7375a57/ ]...Done\n",
      "\t\tRetrieving data from [ https://www.linkedin.com/in/qiyu-brenda-huang-5b9943159/ ]...Done\n",
      "\n",
      "\tDegree of separation: 3\t\tLinked from: yilin-ji-99b29b105\n",
      "\t\tRetrieving data from [ https://www.linkedin.com/in/jennifer-quisenberry-cfa-5a576410/ ]...Done\n",
      "\t\tRetrieving data from [ https://www.linkedin.com/in/christopher-lech-cfa-b7a56b9/ ]...Done\n",
      "\t\tRetrieving data from [ https://www.linkedin.com/in/matthew-wiezalis-cfa-b8a3a59/ ]...Done\n",
      "\t\tRetrieving data from [ https://www.linkedin.com/in/patrick-scully-cfa-611b645/ ]...Done\n",
      "\n",
      "\tDegree of separation: 3\t\tLinked from: xi-chen-a4497114\n",
      "\t\tRetrieving data from [ https://www.linkedin.com/in/%E8%88%92%E5%90%8C-%E9%9C%8D-abab46152/ ]...Done\n",
      "\t\tRetrieving data from [ https://www.linkedin.com/in/hye-young-arian-jung-25a004104/ ]...Done\n",
      "\t\tRetrieving data from [ https://www.linkedin.com/in/katie-farrin-b57a1642/ ]...Done\n",
      "\t\tRetrieving data from [ https://www.linkedin.com/in/sandie-xu-b9a12a36/ ]...Done\n",
      "\n",
      "\tDegree of separation: 3\t\tLinked from: mingjian-tian-95349329\n",
      "\t\tRetrieving data from [ https://www.linkedin.com/in/corgilee/ ]...Done\n",
      "\t\tRetrieving data from [ https://www.linkedin.com/in/shiqin-cai/ ]...Done\n",
      "\t\tRetrieving data from [ https://www.linkedin.com/in/howard-liu-02ba66b/ ]...Done\n",
      "\t\tRetrieving data from [ https://www.linkedin.com/in/jiyefenstermaker/ ]...Done\n",
      "\n",
      "\tDegree of separation: 3\t\tLinked from: jeremymfunk\n",
      "\t\tRetrieving data from [ https://www.linkedin.com/in/huiyan-lin-0901807/ ]...Done\n",
      "\t\tRetrieving data from [ https://www.linkedin.com/in/yi-chen-tu-b980454/ ]...Done\n",
      "\t\tRetrieving data from [ https://www.linkedin.com/in/dianjunren/ ]...Done\n",
      "\t\tRetrieving data from [ https://www.linkedin.com/in/lu-li-aa72654/ ]...Done\n",
      "Profile scraping finished in 0:03:06.602396\n",
      "\n",
      "Preprocessing DataFrame...Done\n"
     ]
    }
   ],
   "source": [
    "li2 = LI_Scraper()\n",
    "li2.run(start_url = \"https://www.linkedin.com/in/chrischen447/\", degrees = 3, connects = 4, save = False)"
   ]
  },
  {
   "cell_type": "code",
   "execution_count": 4,
   "metadata": {},
   "outputs": [
    {
     "name": "stdout",
     "output_type": "stream",
     "text": [
      "Saving DataFrame to chris_chen_profiles.csv\n"
     ]
    }
   ],
   "source": [
    "li2.save(\"chris_chen_profiles.csv\")"
   ]
  }
 ],
 "metadata": {
  "kernelspec": {
   "display_name": "Python 3.7.4 64-bit ('base': conda)",
   "language": "python",
   "name": "python37464bitbasecondade3031e102d342aa8a702b3f5f29a489"
  },
  "language_info": {
   "codemirror_mode": {
    "name": "ipython",
    "version": 3
   },
   "file_extension": ".py",
   "mimetype": "text/x-python",
   "name": "python",
   "nbconvert_exporter": "python",
   "pygments_lexer": "ipython3",
   "version": "3.7.6"
  }
 },
 "nbformat": 4,
 "nbformat_minor": 4
}
