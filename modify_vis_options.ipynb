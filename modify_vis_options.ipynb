{
 "cells": [
  {
   "cell_type": "code",
   "execution_count": 12,
   "metadata": {
    "scrolled": true
   },
   "outputs": [],
   "source": [
    "import pickle"
   ]
  },
  {
   "cell_type": "markdown",
   "metadata": {},
   "source": [
    "## Graph options"
   ]
  },
  {
   "cell_type": "code",
   "execution_count": 129,
   "metadata": {},
   "outputs": [],
   "source": [
    "graph_options = \"\"\"\n",
    "var options = {\n",
    "  \"nodes\": {\n",
    "    \"borderWidthSelected\": 7,\n",
    " \n",
    "    \"font\": {\n",
    "      \"size\": 39\n",
    "    },\n",
    "    \"scaling\": {\n",
    "      \"max\": 55\n",
    "    },\n",
    "    \"shadow\": {\n",
    "      \"enabled\": true\n",
    "    },\n",
    "    \"size\": 71\n",
    "  },\n",
    "  \"edges\": {\n",
    "\n",
    "    \"scaling\": {\n",
    "      \"min\": 10,\n",
    "      \"max\": 35\n",
    "    },\n",
    "    \"selectionWidth\": 4.4,\n",
    "    \"smooth\": false,\n",
    "    \"width\": 3\n",
    "  },\n",
    "  \"physics\": {\n",
    "    \"barnesHut\": {\n",
    "      \"gravitationalConstant\": -80000,\n",
    "      \"springLength\": 250,\n",
    "      \"springConstant\": 0.001\n",
    "    },\n",
    "    \"minVelocity\": 0.75\n",
    "  }\n",
    "}\n",
    "\"\"\"\n",
    "with open('graph_options.data', 'wb') as f:\n",
    "    pickle.dump(graph_options, f)"
   ]
  },
  {
   "cell_type": "markdown",
   "metadata": {},
   "source": [
    "## Tree options"
   ]
  },
  {
   "cell_type": "code",
   "execution_count": 127,
   "metadata": {},
   "outputs": [],
   "source": [
    "tree_options = \"\"\"\n",
    "var options = {\n",
    "  \"nodes\": {\n",
    "    \"font\": {\n",
    "      \"size\": 39\n",
    "    },\n",
    "    \"physics\": false,\n",
    "    \"size\": 71\n",
    "  },\n",
    "  \"edges\": {\n",
    "    \"color\": {\n",
    "      \"inherit\": true\n",
    "    },\n",
    "    \"smooth\": false\n",
    "  },\n",
    "  \"layout\": {\n",
    "    \"hierarchical\": {\n",
    "      \"enabled\": true,\n",
    "      \"levelSeparation\": 500,\n",
    "      \"nodeSpacing\": 240,\n",
    "      \"edgeMinimization\": false,\n",
    "      \"direction\": \"LR\"\n",
    "    }\n",
    "  },\n",
    "  \"physics\": {\n",
    "    \"hierarchicalRepulsion\": {\n",
    "      \"centralGravity\": 0\n",
    "    },\n",
    "    \"minVelocity\": 0.75,\n",
    "    \"solver\": \"hierarchicalRepulsion\"\n",
    "  }\n",
    "}\n",
    "\n",
    "\"\"\"\n",
    "with open('tree_options.data', 'wb') as f:\n",
    "    pickle.dump(tree_options, f)"
   ]
  }
 ],
 "metadata": {
  "kernelspec": {
   "display_name": "Python 3.7.4 64-bit ('base': conda)",
   "language": "python",
   "name": "python37464bitbasecondade3031e102d342aa8a702b3f5f29a489"
  },
  "language_info": {
   "codemirror_mode": {
    "name": "ipython",
    "version": 3
   },
   "file_extension": ".py",
   "mimetype": "text/x-python",
   "name": "python",
   "nbconvert_exporter": "python",
   "pygments_lexer": "ipython3",
   "version": "3.7.6"
  }
 },
 "nbformat": 4,
 "nbformat_minor": 4
}
